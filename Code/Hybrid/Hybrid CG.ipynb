{
 "cells": [
  {
   "cell_type": "code",
   "execution_count": 125,
   "metadata": {
    "collapsed": true
   },
   "outputs": [],
   "source": [
    "import numpy as np\n",
    "import matplotlib.pyplot as plt\n",
    "import numpy.linalg as la\n",
    "\n",
    "% matplotlib inline"
   ]
  },
  {
   "cell_type": "markdown",
   "metadata": {},
   "source": [
    "We wish to solve:\n",
    "\\begin{align}\n",
    "q + u' = 0 \\\\\n",
    "q' = 0 \\\\\n",
    "u(0) = \\alpha, \\hspace{3mm} u(1) = \\beta\n",
    "\\end{align}\n",
    "Which has the simple solution:\n",
    "\\begin{align}\n",
    "u = \\alpha + (\\beta - \\alpha)x\\\\\n",
    "q = \\alpha - \\beta\n",
    "\\end{align}"
   ]
  },
  {
   "cell_type": "markdown",
   "metadata": {},
   "source": [
    "We'll solve this by dividing the unit interval up into two elements, $E1 = (0,1/2)$ and $E2 = (1/2, 1)$"
   ]
  },
  {
   "cell_type": "code",
   "execution_count": 126,
   "metadata": {
    "collapsed": true
   },
   "outputs": [],
   "source": [
    "nodes,weights = np.polynomial.legendre.leggauss(3)\n",
    "\n",
    "def gamma_0(u):\n",
    "    return 0.5*u**2 - 0.5*u\n",
    "\n",
    "def gamma_1(u):\n",
    "    return 1 - u**2\n",
    "\n",
    "def gamma_2(u):\n",
    "    return 0.5*u**2 + 0.5*u\n",
    "\n",
    "def dgamma_0_du(u):\n",
    "    return u - 0.5\n",
    "\n",
    "def dgamma_1_du(u):\n",
    "    return -2*u\n",
    "\n",
    "def dgamma_2_du(u):\n",
    "    return u + 0.5\n",
    "\n",
    "\n",
    "def gamma_inner():\n",
    "    A = np.zeros((3,3))\n",
    "    A[0,0] =  np.sum(weights*gamma_0(nodes)*gamma_0(nodes))\n",
    "    A[0,1] = np.sum(weights*gamma_0(nodes)*gamma_1(nodes))\n",
    "    A[0,2] = np.sum(weights*gamma_0(nodes)*gamma_2(nodes))\n",
    "    A[1,1] = np.sum(weights*gamma_1(nodes)*gamma_1(nodes))\n",
    "    A[1,2] = np.sum(weights*gamma_1(nodes)*gamma_2(nodes))\n",
    "    A[2,2] = np.sum(weights*gamma_2(nodes)*gamma_2(nodes))\n",
    "    \n",
    "    A = A + A.T - np.diag(np.diag(A))\n",
    "    return A\n",
    "\n",
    "def gamma_inner_dx():\n",
    "    A = np.zeros((3,3))\n",
    "    A[0,0] = np.sum(weights*gamma_0(nodes)*dgamma_0_du(nodes))\n",
    "    A[0,1] = np.sum(weights*gamma_1(nodes)*dgamma_0_du(nodes))\n",
    "    A[0,2] = np.sum(weights*gamma_2(nodes)*dgamma_0_du(nodes))\n",
    "    A[1,0] = np.sum(weights*gamma_0(nodes)*dgamma_1_du(nodes))\n",
    "    A[1,1] = np.sum(weights*gamma_1(nodes)*dgamma_1_du(nodes))\n",
    "    A[1,2] = np.sum(weights*gamma_2(nodes)*dgamma_1_du(nodes))\n",
    "    A[2,0] = np.sum(weights*gamma_0(nodes)*dgamma_2_du(nodes))\n",
    "    A[2,1] = np.sum(weights*gamma_1(nodes)*dgamma_2_du(nodes))\n",
    "    A[2,2] = np.sum(weights*gamma_2(nodes)*dgamma_2_du(nodes))\n",
    "    return A\n",
    "\n"
   ]
  },
  {
   "cell_type": "markdown",
   "metadata": {},
   "source": [
    "We divide this into two parts (would be three parts if the right hand side were non-homogeneous).  First, we solve the BVP on each element, keeping the boundary conditions, and assuming that the value of $u$ at the interface is zero.  This gives a solution pair $q_b, u_b$"
   ]
  },
  {
   "cell_type": "code",
   "execution_count": 155,
   "metadata": {
    "collapsed": false
   },
   "outputs": [],
   "source": [
    "# solve for boundary values\n",
    "# left element\n",
    "M = np.zeros((4,4))\n",
    "M[0:3,0:3] += 0.25*gamma_inner()\n",
    "M[:-1,-1] -= gamma_inner_dx()[:,1]\n",
    "M[-1,:-1] -= gamma_inner_dx()[1,:]\n",
    "b = np.zeros(4,)\n",
    "\n",
    "alpha = 0\n",
    "\n",
    "b[0] += alpha\n",
    "b[0:3] += alpha*gamma_inner_dx()[:,0]\n",
    "\n",
    "# right element\n",
    "M2 = np.zeros((4,4))\n",
    "M2[0:3,0:3] += 0.25*gamma_inner()\n",
    "M2[:-1,-1] -= gamma_inner_dx()[:,1]\n",
    "M2[-1,:-1] -= gamma_inner_dx()[1,:]\n",
    "b2 = np.zeros(4,)\n",
    "\n",
    "beta = 1\n",
    "\n",
    "b2[2] -= beta\n",
    "b2[0:3] += beta*gamma_inner_dx()[:,2]"
   ]
  },
  {
   "cell_type": "code",
   "execution_count": 156,
   "metadata": {
    "collapsed": false
   },
   "outputs": [],
   "source": [
    "qu_g_1 = la.solve(M,b)\n",
    "qu_g_2 = la.solve(M2,b2)"
   ]
  },
  {
   "cell_type": "code",
   "execution_count": 168,
   "metadata": {
    "collapsed": false
   },
   "outputs": [
    {
     "data": {
      "text/plain": [
       "<matplotlib.lines.Line2D at 0x7f37fb151d68>"
      ]
     },
     "execution_count": 168,
     "metadata": {},
     "output_type": "execute_result"
    },
    {
     "data": {
      "image/png": "[encoded data removed]",
      "text/plain": [
       "<matplotlib.figure.Figure at 0x7f37fb1df668>"
      ]
     },
     "metadata": {},
     "output_type": "display_data"
    }
   ],
   "source": [
    "plt.spy(M,markersize=4)"
   ]
  },
  {
   "cell_type": "code",
   "execution_count": 157,
   "metadata": {
    "collapsed": false
   },
   "outputs": [
    {
     "data": {
      "text/plain": [
       "<matplotlib.text.Text at 0x7f37fb4b7080>"
      ]
     },
     "execution_count": 157,
     "metadata": {},
     "output_type": "execute_result"
    },
    {
     "data": {
      "image/png": "[encoded data removed]",
      "text/plain": [
       "<matplotlib.figure.Figure at 0x7f37fb5030b8>"
      ]
     },
     "metadata": {},
     "output_type": "display_data"
    },
    {
     "data": {
      "image/png": "[encoded data removed]",
      "text/plain": [
       "<matplotlib.figure.Figure at 0x7f37fb4eba20>"
      ]
     },
     "metadata": {},
     "output_type": "display_data"
    }
   ],
   "source": [
    "uplot = np.array([alpha, qu_g_1[-1],0,qu_g_2[-1],beta])\n",
    "xu = np.array([0,0.25,0.5,0.75,1.0])\n",
    "xq = np.array([0.0,0.25,0.5,0.5,0.75,1.0])\n",
    "qplot = np.hstack([qu_g_1[0:3],qu_g_2[0:3]])\n",
    "\n",
    "plt.plot(xu,uplot,label = 'U')\n",
    "plt.title('U_b solution')\n",
    "plt.figure()\n",
    "plt.plot(xq,qplot,label = 'qb')\n",
    "plt.title('Q_b solution')"
   ]
  },
  {
   "cell_type": "markdown",
   "metadata": {},
   "source": [
    "Now, we need to solve for the interior value of $u$, and we will do this by strongly enforcing continuity of $q$ along the interface (this enforcement is a specific choice).  We'll set the value at 1, (a basis for $\\mathbb{R}^n$) and solve for the solutions $u_1$ and $q_1$"
   ]
  },
  {
   "cell_type": "code",
   "execution_count": 158,
   "metadata": {
    "collapsed": false
   },
   "outputs": [],
   "source": [
    "# next, for interior value - solve for \"basis\" (the number 1)\n",
    "\n",
    "# 1st element\n",
    "M3 = np.zeros((4,4))\n",
    "M3[0:3,0:3] += 0.25*gamma_inner()\n",
    "M3[:-1,-1] -= gamma_inner_dx()[:,1]\n",
    "M3[-1,:-1] -= gamma_inner_dx()[1,:]\n",
    "\n",
    "b3 = np.zeros(4,)\n",
    "b3[2] -= 1\n",
    "b3[0:3] += gamma_inner_dx()[:,2]\n",
    "\n",
    "Q_1_1 = la.solve(M3,b3)\n",
    "\n",
    "# 2nd element\n",
    "M4 = np.zeros((4,4))\n",
    "M4[0:3,0:3] += 0.25*gamma_inner()\n",
    "M4[:-1,-1] -= gamma_inner_dx()[:,1]\n",
    "M4[-1,:-1] -= gamma_inner_dx()[1,:]\n",
    "\n",
    "b4 = np.zeros(4,)\n",
    "b4[0] += 1\n",
    "b4[0:3] += gamma_inner_dx()[:,0]\n",
    "\n",
    "Q_1_2 = la.solve(M4,b4)"
   ]
  },
  {
   "cell_type": "code",
   "execution_count": 159,
   "metadata": {
    "collapsed": false
   },
   "outputs": [
    {
     "data": {
      "text/plain": [
       "<matplotlib.text.Text at 0x7f37fb7e0a58>"
      ]
     },
     "execution_count": 159,
     "metadata": {},
     "output_type": "execute_result"
    },
    {
     "data": {
      "image/png": "[encoded data removed]",
      "text/plain": [
       "<matplotlib.figure.Figure at 0x7f37fb62c860>"
      ]
     },
     "metadata": {},
     "output_type": "display_data"
    },
    {
     "data": {
      "image/png": "[encoded data removed]",
      "text/plain": [
       "<matplotlib.figure.Figure at 0x7f37fb67fb38>"
      ]
     },
     "metadata": {},
     "output_type": "display_data"
    }
   ],
   "source": [
    "uplot = np.array([0, Q_1_1[-1],1,Q_1_2[-1],0])\n",
    "xu = np.array([0,0.25,0.5,0.75,1.0])\n",
    "xq = np.array([0.0,0.25,0.5,0.5,0.75,1.0])\n",
    "qplot = np.hstack([Q_1_1[0:3],Q_1_2[0:3]])\n",
    "\n",
    "plt.plot(xu,uplot,label = 'U')\n",
    "plt.title('U_b solution')\n",
    "plt.figure()\n",
    "plt.plot(xq,qplot,label = 'qb')\n",
    "plt.title('Q_b solution')"
   ]
  },
  {
   "cell_type": "markdown",
   "metadata": {},
   "source": [
    "Now, the interior value is not necessarily 1.0.  By enforcing continuity of $q$ we can solve for the interior point $\\lambda = u(1/2)$"
   ]
  },
  {
   "cell_type": "code",
   "execution_count": 160,
   "metadata": {
    "collapsed": false
   },
   "outputs": [],
   "source": [
    "# now solve for the interior point of U\n",
    "a = 0.25*np.dot(Q_1_1[0:3],np.dot(gamma_inner(),Q_1_1[0:3])) +\\\n",
    "    0.25*np.dot(Q_1_2[0:3],np.dot(gamma_inner(),Q_1_2[0:3]))\n",
    "    \n",
    "bb = -alpha*Q_1_1[0] + beta*Q_1_2[2]\n",
    "\n",
    "u_int = bb/a"
   ]
  },
  {
   "cell_type": "markdown",
   "metadata": {},
   "source": [
    "Now, we simply add $u = u_b + \\lambda u_1$ and $q = q_b + \\lambda q_1$"
   ]
  },
  {
   "cell_type": "code",
   "execution_count": 161,
   "metadata": {
    "collapsed": false
   },
   "outputs": [],
   "source": [
    "u = np.zeros(5,)\n",
    "u[0] = alpha\n",
    "u[-1] = beta\n",
    "u[2] = u_int\n",
    "u[1] = qu_g_1[-1] + u_int*Q_1_1[-1]\n",
    "u[3] = qu_g_2[-1] + u_int*Q_1_2[-1]\n",
    "\n",
    "q = np.zeros(6,)\n",
    "q[0:3] = qu_g_1[0:3] + u_int*Q_1_1[0:3]\n",
    "q[3:] = qu_g_2[0:3] + u_int*Q_1_2[0:3]"
   ]
  },
  {
   "cell_type": "code",
   "execution_count": 163,
   "metadata": {
    "collapsed": false
   },
   "outputs": [
    {
     "data": {
      "text/plain": [
       "<matplotlib.text.Text at 0x7f37fbaaf438>"
      ]
     },
     "execution_count": 163,
     "metadata": {},
     "output_type": "execute_result"
    },
    {
     "data": {
      "image/png": "[encoded data removed]",
      "text/plain": [
       "<matplotlib.figure.Figure at 0x7f37fc81fcc0>"
      ]
     },
     "metadata": {},
     "output_type": "display_data"
    },
    {
     "data": {
      "image/png": "[encoded data removed]",
      "text/plain": [
       "<matplotlib.figure.Figure at 0x7f37fb887400>"
      ]
     },
     "metadata": {},
     "output_type": "display_data"
    }
   ],
   "source": [
    "xu = np.array([0,0.25,0.5,0.75,1.0])\n",
    "xq = np.array([0.0,0.25,0.5,0.5,0.75,1.0])\n",
    "\n",
    "plt.figure()\n",
    "plt.plot(xu,u,label = 'U')\n",
    "ax = plt.gca()\n",
    "ax.ticklabel_format(useOffset=False)\n",
    "plt.title('U_b solution')\n",
    "plt.figure()\n",
    "plt.plot(xq,q,label = 'qb')\n",
    "ax = plt.gca()\n",
    "ax.ticklabel_format(useOffset=False)\n",
    "plt.title('Q_b solution')"
   ]
  },
  {
   "cell_type": "code",
   "execution_count": 147,
   "metadata": {
    "collapsed": false
   },
   "outputs": [],
   "source": [
    "ax.set_autoscale_on(False)"
   ]
  },
  {
   "cell_type": "code",
   "execution_count": 98,
   "metadata": {
    "collapsed": false
   },
   "outputs": [
    {
     "data": {
      "text/plain": [
       "array([ 0.  ,  0.25,  0.5 ,  0.75,  1.  ])"
      ]
     },
     "execution_count": 98,
     "metadata": {},
     "output_type": "execute_result"
    }
   ],
   "source": [
    "u"
   ]
  },
  {
   "cell_type": "code",
   "execution_count": 43,
   "metadata": {
    "collapsed": false
   },
   "outputs": [
    {
     "data": {
      "text/plain": [
       "3.9999999999999889"
      ]
     },
     "execution_count": 43,
     "metadata": {},
     "output_type": "execute_result"
    }
   ],
   "source": [
    "-Q_1_1[0] + Q_1_2[2]"
   ]
  },
  {
   "cell_type": "code",
   "execution_count": null,
   "metadata": {
    "collapsed": true
   },
   "outputs": [],
   "source": []
  }
 ],
 "metadata": {
  "kernelspec": {
   "display_name": "Python 3",
   "language": "python",
   "name": "python3"
  },
  "language_info": {
   "codemirror_mode": {
    "name": "ipython",
    "version": 3
   },
   "file_extension": ".py",
   "mimetype": "text/x-python",
   "name": "python",
   "nbconvert_exporter": "python",
   "pygments_lexer": "ipython3",
   "version": "3.6.0"
  }
 },
 "nbformat": 4,
 "nbformat_minor": 2
}
