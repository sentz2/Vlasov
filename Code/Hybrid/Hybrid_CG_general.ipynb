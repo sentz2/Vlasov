{
 "cells": [
  {
   "cell_type": "code",
   "execution_count": 22,
   "metadata": {
    "collapsed": true
   },
   "outputs": [],
   "source": [
    "import numpy as np\n",
    "import numpy.linalg as la\n",
    "import matplotlib.pyplot as plt\n",
    "import scipy.interpolate as interp\n",
    "\n",
    "% matplotlib inline"
   ]
  },
  {
   "cell_type": "markdown",
   "metadata": {},
   "source": [
    "We want to solve the following BVP:\n",
    "\\begin{equation}\n",
    "q + u' = 0\\\\\n",
    "q' = f\\\\\n",
    "u(0) = \\alpha  \\\\\n",
    "u(L) = \\beta\n",
    "\\end{equation}"
   ]
  },
  {
   "cell_type": "markdown",
   "metadata": {},
   "source": [
    "We will divide the unit interval into $N_K$ elements, each of which will have a local solver.  We must solve the following weak formulation:\n",
    "\\begin{align}\n",
    "(q,v)_K - (u,v')_K = u(x_{i-1})v(x_{i-1}) - u(x_i)v(x_i) \\hspace{3mm} \\forall v \\in V\\\\\n",
    "-(q,w')_K + q(x_i)w(x_i) - q(x_{i-1})w(x_i) = (f,w)_K   \\hspace{3mm} \\forall w \\in W\n",
    "\\end{align}\n"
   ]
  },
  {
   "cell_type": "code",
   "execution_count": 5,
   "metadata": {
    "collapsed": false
   },
   "outputs": [],
   "source": [
    "L = 1 # length of interval\n",
    "Nk = 3 # number of elements\n",
    "Ni = Nk - 1 # number of interfaces\n",
    "h = L/Nk  # size of each element ---- h/2 will be geometric factor when computing integrals on reference element\n",
    "\n",
    "# try equal order polynomials now\n",
    "Ne = 3   # number of nodes in an element (including endpoints)\n"
   ]
  },
  {
   "cell_type": "code",
   "execution_count": 66,
   "metadata": {
    "collapsed": false
   },
   "outputs": [],
   "source": [
    "# construct local basis functions\n",
    "\n",
    "def lagrange_basis(degree):\n",
    "    Ne = degree + 1\n",
    "    z1 = []\n",
    "    z2 = []\n",
    "    xi = np.linspace(-1,1,Ne)\n",
    "    \n",
    "    for k in range(Ne):\n",
    "        w = np.zeros_like(xi)\n",
    "        w[k] = 1.0\n",
    "        p = interp.lagrange(xi,w)\n",
    "        z1.append(p)\n",
    "        z2.append(np.polyder(p))\n",
    "        \n",
    "    return z1,z2\n",
    "\n",
    "\n",
    "def phi_j_phi_i_ref(degree,nodes,weights,poly):\n",
    "    A = np.zeros((degree+1,degree+1))\n",
    "    for i in range(degree +1):\n",
    "        for j in range(i,degree+1):\n",
    "            A[i,j] = np.sum(weights*poly[j](nodes)*poly[i](nodes))\n",
    "    \n",
    "    A = A + A.T - np.diag(np.diag(A))\n",
    "    return A"
   ]
  },
  {
   "cell_type": "code",
   "execution_count": 67,
   "metadata": {
    "collapsed": false
   },
   "outputs": [
    {
     "data": {
      "text/plain": [
       "array([[ 0.26666667,  0.13333333, -0.06666667],\n",
       "       [ 0.13333333,  1.06666667,  0.13333333],\n",
       "       [-0.06666667,  0.13333333,  0.26666667]])"
      ]
     },
     "execution_count": 67,
     "metadata": {},
     "output_type": "execute_result"
    }
   ],
   "source": [
    "z1,z2 = lagrange_basis(2)\n",
    "nodes,weights = np.polynomial.legendre.leggauss(3)\n",
    "phi_j_phi_i_ref(2,nodes,weights,z1)"
   ]
  },
  {
   "cell_type": "code",
   "execution_count": 61,
   "metadata": {
    "collapsed": false
   },
   "outputs": [],
   "source": [
    "np.polynomial.legendre.leggauss?"
   ]
  },
  {
   "cell_type": "code",
   "execution_count": 51,
   "metadata": {
    "collapsed": true
   },
   "outputs": [],
   "source": [
    "degree = 2\n",
    "gauss_nodes = degree + 1\n",
    "nodes,weights = np.polynomial.legendre.leggauss(gauss_nodes)"
   ]
  },
  {
   "cell_type": "code",
   "execution_count": 53,
   "metadata": {
    "collapsed": false
   },
   "outputs": [
    {
     "data": {
      "text/plain": [
       "array([-0.77459667,  0.        ,  0.77459667])"
      ]
     },
     "execution_count": 53,
     "metadata": {},
     "output_type": "execute_result"
    }
   ],
   "source": [
    "nodes"
   ]
  },
  {
   "cell_type": "code",
   "execution_count": 16,
   "metadata": {
    "collapsed": false
   },
   "outputs": [],
   "source": [
    "z = []\n",
    "def f(x):\n",
    "    return x**2\n",
    "\n",
    "z.append(f)\n",
    "def f(x):\n",
    "    return x + 1\n",
    "\n",
    "z.append(f)"
   ]
  },
  {
   "cell_type": "code",
   "execution_count": 20,
   "metadata": {
    "collapsed": false
   },
   "outputs": [
    {
     "data": {
      "text/plain": [
       "array([-1.,  1.])"
      ]
     },
     "execution_count": 20,
     "metadata": {},
     "output_type": "execute_result"
    }
   ],
   "source": [
    "np.linspace(-1,1,2)"
   ]
  },
  {
   "cell_type": "code",
   "execution_count": 24,
   "metadata": {
    "collapsed": false
   },
   "outputs": [],
   "source": [
    "xi = np.linspace(0,1,3)\n",
    "w = np.array([1.0, 0.0, 0.0])\n",
    "p = interp.lagrange(xi,w)"
   ]
  },
  {
   "cell_type": "code",
   "execution_count": 25,
   "metadata": {
    "collapsed": false
   },
   "outputs": [
    {
     "data": {
      "text/plain": [
       "array([ 1.,  0.,  0.])"
      ]
     },
     "execution_count": 25,
     "metadata": {},
     "output_type": "execute_result"
    }
   ],
   "source": [
    "p(xi)"
   ]
  },
  {
   "cell_type": "code",
   "execution_count": 48,
   "metadata": {
    "collapsed": false
   },
   "outputs": [],
   "source": [
    "gamma, dgamma = lagrange_basis(1)"
   ]
  },
  {
   "cell_type": "code",
   "execution_count": 49,
   "metadata": {
    "collapsed": false
   },
   "outputs": [
    {
     "data": {
      "text/plain": [
       "[poly1d([-1.,  1.]), poly1d([ 1.,  0.])]"
      ]
     },
     "execution_count": 49,
     "metadata": {},
     "output_type": "execute_result"
    }
   ],
   "source": [
    "gamma"
   ]
  },
  {
   "cell_type": "code",
   "execution_count": 39,
   "metadata": {
    "collapsed": false
   },
   "outputs": [
    {
     "data": {
      "text/plain": [
       "poly1d([ 1.,  0.])"
      ]
     },
     "execution_count": 39,
     "metadata": {},
     "output_type": "execute_result"
    }
   ],
   "source": [
    "z[1]"
   ]
  },
  {
   "cell_type": "code",
   "execution_count": 41,
   "metadata": {
    "collapsed": false
   },
   "outputs": [
    {
     "data": {
      "text/plain": [
       "poly1d([-1.])"
      ]
     },
     "execution_count": 41,
     "metadata": {},
     "output_type": "execute_result"
    }
   ],
   "source": [
    "np.polyder(z[0])"
   ]
  },
  {
   "cell_type": "code",
   "execution_count": null,
   "metadata": {
    "collapsed": true
   },
   "outputs": [],
   "source": []
  }
 ],
 "metadata": {
  "kernelspec": {
   "display_name": "Python 3",
   "language": "python",
   "name": "python3"
  },
  "language_info": {
   "codemirror_mode": {
    "name": "ipython",
    "version": 3
   },
   "file_extension": ".py",
   "mimetype": "text/x-python",
   "name": "python",
   "nbconvert_exporter": "python",
   "pygments_lexer": "ipython3",
   "version": "3.6.0"
  }
 },
 "nbformat": 4,
 "nbformat_minor": 2
}
