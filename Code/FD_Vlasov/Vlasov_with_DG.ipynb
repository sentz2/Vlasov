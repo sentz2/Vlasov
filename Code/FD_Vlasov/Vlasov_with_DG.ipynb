{
 "cells": [
  {
   "cell_type": "code",
   "execution_count": 212,
   "metadata": {
    "collapsed": true
   },
   "outputs": [],
   "source": [
    "import numpy as np\n",
    "import matplotlib.pyplot as plt\n",
    "from FD_Vlasov_supp import *\n",
    "import importlib\n",
    "importlib.import_module('mpl_toolkits.mplot3d').__path__\n",
    "from mpl_toolkits.mplot3d import Axes3D\n",
    "import scipy.integrate as integrate\n",
    "import numpy.linalg as la\n",
    "\n",
    "% matplotlib inline\n",
    "np.set_printoptions(precision = 2)"
   ]
  },
  {
   "cell_type": "markdown",
   "metadata": {},
   "source": [
    "Solve Vlasov's equation in one space dimension and one velocity dimension:\n",
    "\\begin{equation}\n",
    "\\frac{\\partial f}{\\partial t} + v\\frac{\\partial f}{\\partial x} + E(t,x)\\frac{\\partial f}{\\partial v} = 0\n",
    "\\end{equation}\n",
    "With $x \\in (0,L)$ and $v \\in (-\\infty, \\infty)$, and $\\lim_{|v|\\to \\infty} f(t,x,v) = 0$"
   ]
  },
  {
   "cell_type": "markdown",
   "metadata": {},
   "source": [
    "We also need boundary conditions for $x$... which I'm not too sure about.  I'll try homogenous neumann for $x$ (closed domain)"
   ]
  },
  {
   "cell_type": "markdown",
   "metadata": {},
   "source": [
    "We'll use a cutoff velocity $L_v$ to define our computational domain for $v$.  The electric field can be solved through:\n",
    "\\begin{align}\n",
    "-\\frac{\\partial^2 \\Phi}{\\partial x^2}(t,x) &= \\frac{q}{\\epsilon_0}\\int_{\\mathbb{R}}f(t,x,v)dv\\\\\n",
    "E(t,x) &= -\\frac{\\partial \\Phi}{\\partial x}\n",
    "\\end{align}\n",
    "Again, I'm not too sure about boundary conditions for the potential...I'll say the potential is zero at the walls but this is iffy"
   ]
  },
  {
   "cell_type": "markdown",
   "metadata": {},
   "source": [
    "Initial Condition here"
   ]
  },
  {
   "cell_type": "markdown",
   "metadata": {},
   "source": [
    "We'll discretize in space and velocity first.  Upwinding needed since this is an advective problem (backward difference in $x$ for $v > 0$ and forward difference in $x$ for $v < 0$"
   ]
  },
  {
   "cell_type": "code",
   "execution_count": 239,
   "metadata": {
    "collapsed": false
   },
   "outputs": [],
   "source": [
    "Lv = 20     # approximation to \"infinity\" for velocity space\n",
    "\n",
    "k = 0.483\n",
    "L = 2*np.pi/k  # length of spatial domain, which is periodic\n",
    "\n",
    "\n",
    "nx = 5\n",
    "nv = 5   # \n",
    "\n",
    "x = np.linspace(0,L,nx)\n",
    "v = np.linspace(-Lv,Lv,nv)\n",
    "\n",
    "X,V = np.meshgrid(x,v)  # represent as grid\n",
    "\n",
    "def initial_u(x,v):\n",
    "    z = np.exp(-(v**2)/2)\n",
    "    z = z/(np.sqrt(2*np.pi)*L)\n",
    "    return z\n",
    "\n",
    "U = initial_u(X,V)\n",
    "U[1,:] = 0.0\n",
    "U[-1,:] = 0.0"
   ]
  },
  {
   "cell_type": "code",
   "execution_count": 245,
   "metadata": {
    "collapsed": false
   },
   "outputs": [],
   "source": [
    "def space_derivative(u,dx,nv):\n",
    "\n",
    "    mid = int(np.floor(nv/2))\n",
    "    upper_U = u[:mid,:]\n",
    "    lower_U = u[mid:,:]\n",
    "    dudx = np.zeros_like(u)\n",
    "    \n",
    "    dudx[:mid,:] = np.roll(upper_U,-1,axis = 1) - upper_U\n",
    "    dudx[mid:,:] = lower_U - np.roll(lower_U,1,axis = 1)\n",
    "    dudx = dudx/dx\n",
    "    \n",
    "    # homogeneous neumann\n",
    "    dudx[:,0] = 0\n",
    "    dudx[:,-1] = 0\n",
    "    \n",
    "    return dudx[1:-1,:] # don't need to update Dirichlet B.C's\n",
    "\n",
    "def velocity_derivative(u,dv,E): #upwinding???\n",
    "    # will need to look at sign of E\n",
    "    E_pos = np.where(E >= 0)\n",
    "    E_neg = np.where(E < 0)\n",
    "    \n",
    "    dudv = np.zeros_like(u)\n",
    "    dudv[:,E_pos] = dudv[:,E_pos] - np.roll(u,1,axis = 0)[:,E_pos]\n",
    "    dudv[:,E_neg] = np.roll(u,-1,axis = 0)[:,E_pos] - dudv[:,E_neg]\n",
    "    \n",
    "    dudv = dudv/dv\n",
    "    dudv = dudv/(dv[:,:-1])\n",
    "    \n",
    "    return dudv[1:-1,:]\n",
    "\n",
    "def Forward_Euler_step(U,dt,E,V,dudx,dudv):\n",
    "    Unew = U\n",
    "    dudx = space_derivative(U,dx,)\n",
    "    Unew[1:-1,:] = U[1:-1,:] + dt*(-V*dudx - E*dudv)\n",
    "    return Unew\n",
    "\n",
    "def integrate_u(u):\n",
    "    int_u = np.zeros(nx,)\n",
    "    \n",
    "    # assume u has no redundant column\n",
    "    int_u[1:] = integrate.simps(u,v,axis = 0)\n",
    "    int_u[0] = int_u[-1]\n",
    "    \n",
    "    return int_u"
   ]
  },
  {
   "cell_type": "code",
   "execution_count": 246,
   "metadata": {
    "collapsed": false
   },
   "outputs": [
    {
     "data": {
      "text/plain": [
       "(array([3, 4, 5]),)"
      ]
     },
     "execution_count": 246,
     "metadata": {},
     "output_type": "execute_result"
    }
   ],
   "source": [
    "bb = np.linspace(-1,1,6)\n",
    "np.where(bb > 0)"
   ]
  },
  {
   "cell_type": "code",
   "execution_count": 252,
   "metadata": {
    "collapsed": false
   },
   "outputs": [
    {
     "data": {
      "text/plain": [
       "(5,)"
      ]
     },
     "execution_count": 252,
     "metadata": {},
     "output_type": "execute_result"
    }
   ],
   "source": [
    "x.shape"
   ]
  },
  {
   "cell_type": "code",
   "execution_count": 253,
   "metadata": {
    "collapsed": false
   },
   "outputs": [
    {
     "data": {
      "text/plain": [
       "array([  0.  ,   3.25,   6.5 ,   9.76,  13.01])"
      ]
     },
     "execution_count": 253,
     "metadata": {},
     "output_type": "execute_result"
    }
   ],
   "source": [
    "x"
   ]
  },
  {
   "cell_type": "code",
   "execution_count": 244,
   "metadata": {
    "collapsed": false
   },
   "outputs": [
    {
     "name": "stdout",
     "output_type": "stream",
     "text": [
      "0.796448891771\n",
      "6.50433261613\n"
     ]
    }
   ],
   "source": [
    "print(dudx[1,0])\n",
    "print(2*x[1])"
   ]
  },
  {
   "cell_type": "code",
   "execution_count": 172,
   "metadata": {
    "collapsed": false
   },
   "outputs": [
    {
     "data": {
      "text/plain": [
       "0.14096240826730755"
      ]
     },
     "execution_count": 172,
     "metadata": {},
     "output_type": "execute_result"
    }
   ],
   "source": [
    "2*(x[1] - x[0])**2"
   ]
  },
  {
   "cell_type": "code",
   "execution_count": null,
   "metadata": {
    "collapsed": true
   },
   "outputs": [],
   "source": []
  },
  {
   "cell_type": "code",
   "execution_count": null,
   "metadata": {
    "collapsed": true
   },
   "outputs": [],
   "source": []
  }
 ],
 "metadata": {
  "kernelspec": {
   "display_name": "Python 3",
   "language": "python",
   "name": "python3"
  },
  "language_info": {
   "codemirror_mode": {
    "name": "ipython",
    "version": 3
   },
   "file_extension": ".py",
   "mimetype": "text/x-python",
   "name": "python",
   "nbconvert_exporter": "python",
   "pygments_lexer": "ipython3",
   "version": "3.6.0"
  }
 },
 "nbformat": 4,
 "nbformat_minor": 2
}
