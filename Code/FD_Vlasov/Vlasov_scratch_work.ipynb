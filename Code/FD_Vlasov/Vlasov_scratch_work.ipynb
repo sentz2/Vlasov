{
 "cells": [
  {
   "cell_type": "code",
   "execution_count": 1,
   "metadata": {
    "collapsed": false
   },
   "outputs": [],
   "source": [
    "import numpy as np\n",
    "import matplotlib.pyplot as plt\n",
    "from FD_Vlasov_supp import *\n",
    "import importlib\n",
    "importlib.import_module('mpl_toolkits.mplot3d').__path__\n",
    "from mpl_toolkits.mplot3d import Axes3D\n",
    "import scipy.integrate as integrate\n",
    "import numpy.linalg as la\n",
    "\n",
    "% matplotlib inline\n",
    "#np.set_printoptions(precision = 2)"
   ]
  },
  {
   "cell_type": "code",
   "execution_count": 25,
   "metadata": {
    "collapsed": false
   },
   "outputs": [],
   "source": [
    "Lv = 20     # approximation to \"infinity\" for velocity space\n",
    "\n",
    "k = 0.483\n",
    "L = 2*np.pi/k  # length of spatial domain, which is periodic\n",
    "\n",
    "\n",
    "nx = 200\n",
    "nv = 200\n",
    "\n",
    "x = np.linspace(0,L,nx)\n",
    "v = np.linspace(-Lv,Lv,nv)\n",
    "\n",
    "X,V = np.meshgrid(x,v)  # represent as grid\n",
    "\n",
    "def central_diff_space(u,x):\n",
    "    # computes the spatial derivatives via central differences\n",
    "    # X is entire grid\n",
    "    # u does not have first column (periodic in x)\\\n",
    "    \n",
    "    dudx = np.roll(u,-1,axis = 1) - np.roll(u,1,axis = 1)\n",
    "    x_shift = np.roll(x,-1,axis = 1)\n",
    "    x_shift[:,-1] = x[:,-1] + x[:,1]\n",
    "    dx = np.diff(x,axis = 1) + np.diff(x_shift,axis = 1)\n",
    "    dudx = dudx/(dx)\n",
    "    return dudx[1:-1,:]\n",
    "\n",
    "def central_diff_vel(u,v):\n",
    "    # computes spatial derivative via central difference\n",
    "    # V is entire grid\n",
    "    # u does not have first column (periodic)\n",
    "    \n",
    "    dudv = np.roll(u,-1,axis = 0) - np.roll(u,1,axis = 0)\n",
    "    dv = np.roll(v,-1,axis = 0) - np.roll(v,1,axis = 0)\n",
    "    dudv = dudv/(dv[:,:-1])\n",
    "    #return dudv\n",
    "    return dudv[1:-1,:]\n",
    "\n",
    "def initial_u(x,v):\n",
    "    z = np.exp(-(v**2)/2)\n",
    "    z = z/(np.sqrt(2*np.pi)*L)\n",
    "    return z\n",
    "\n",
    "def F(t,x,v):\n",
    "    # from comparison of Eulerian solvers pg.14 - isn't working too well\n",
    "    alpha = 0.1\n",
    "    k = 0.483\n",
    "    if (t == 0):\n",
    "        # single pulse    \n",
    "        z = alpha*np.cos(k*x)\n",
    "    else:\n",
    "        z = 0*x \n",
    "    return 1.0\n",
    "\n",
    "# change to Adams-Bashforth - unstable\n",
    "def Forward_Euler_time(u,dt,dudx,dudv,v,F):\n",
    "    unew = u\n",
    "    unew -= v*dt*dudx\n",
    "    unew -= F*dt*dudv\n",
    "    return unew\n",
    "\n",
    "def AB2(u,dt,dudx,dudv,dudx_1,dudv_1,v,F,F_1):\n",
    "    unew = u\n",
    "    unew += 1.5*dt*(-v*dudx -F*dudv)\n",
    "    unew -= 0.5*dt*(-v*dudx_1 - F_1*dudv_1)\n",
    "    return unew\n",
    "\n",
    "def AB3(u,dt,dudx,dudv,dudx_1,dudv_1,dudx_2,dudv_2,v,F,F_1,F_2):\n",
    "    unew = u\n",
    "    unew += (23/12)*dt*(-v*dudx - F*dudv)\n",
    "    unew -= (4/3)*dt*(-v*dudx_1 - F_1*dudv_1)\n",
    "    unew += (5/12)*dt*(-v*dudx_2 - F_2*dudv_2)\n",
    "    return unew\n",
    "\n",
    "# integrates out velocity for poisson computation\n",
    "# just need to solve a BVP\n",
    "def integrate_u(u):\n",
    "    int_u = np.zeros(nx,)\n",
    "    \n",
    "    # assume u has no redundant column\n",
    "    int_u[1:] = integrate.simps(u,v,axis = 0)\n",
    "    int_u[0] = int_u[-1]\n",
    "    \n",
    "    return int_u\n",
    "\n",
    "\n",
    "# need an integral of f over v-space function"
   ]
  },
  {
   "cell_type": "code",
   "execution_count": 26,
   "metadata": {
    "collapsed": true
   },
   "outputs": [],
   "source": [
    "# internal electric field computation\n",
    "# assume even spacing for now...\n",
    "def solve_bvp(U):\n",
    "    A = np.diag(2*np.ones(nx-2,)) - np.diag(np.ones(nx-3,),-1) - np.diag(np.ones(nx-3,),1)\n",
    "    A = A/((x[1] - x[0])**2)   # assumes evenly spaced x\n",
    "    rho = integrate_u(U)\n",
    "    phi = np.zeros(nx,)\n",
    "    phi[1:-1] = la.solve(A,rho[1:-1])\n",
    "    return phi\n",
    "\n",
    "def compute_electric_field(U):\n",
    "    dx = x[1] - x[0]\n",
    "    phi = solve_bvp(U)\n",
    "    E = -np.gradient(phi,dx,edge_order = 2)\n",
    "    E = E.reshape(1,-1)\n",
    "    E = np.repeat(E,nv,axis = 0)\n",
    "    return E\n",
    "\n"
   ]
  },
  {
   "cell_type": "code",
   "execution_count": 27,
   "metadata": {
    "collapsed": false
   },
   "outputs": [
    {
     "data": {
      "text/plain": [
       "(200, 200)"
      ]
     },
     "execution_count": 27,
     "metadata": {},
     "output_type": "execute_result"
    }
   ],
   "source": [
    "Uplot = initial_u(X,V)\n",
    "U = np.delete(Uplot,0,1)\n",
    "E = compute_electric_field(U)\n",
    "E.shape"
   ]
  },
  {
   "cell_type": "code",
   "execution_count": 28,
   "metadata": {
    "collapsed": false
   },
   "outputs": [
    {
     "data": {
      "text/plain": [
       "(200, 200)"
      ]
     },
     "execution_count": 28,
     "metadata": {},
     "output_type": "execute_result"
    }
   ],
   "source": [
    "Uplot.shape"
   ]
  },
  {
   "cell_type": "code",
   "execution_count": 30,
   "metadata": {
    "collapsed": false
   },
   "outputs": [
    {
     "name": "stdout",
     "output_type": "stream",
     "text": [
      "(200, 199)\n",
      "(198, 199)\n",
      "(198, 199)\n",
      "(200, 200)\n"
     ]
    }
   ],
   "source": [
    "Uplot = initial_u(X,V)\n",
    "U = np.delete(Uplot,0,1) # inital condition, remove first column (periodic)\n",
    "steps = 50\n",
    "dt = 1/10\n",
    "\n",
    "dudx_2 = central_diff_space(U,X)\n",
    "dudv_2 = central_diff_vel(U,V)\n",
    "E_2 = compute_electric_field(U)\n",
    "print(U.shape)\n",
    "print(dudx_2.shape)\n",
    "print(dudv_2.shape)\n",
    "print(E_2.shape)\n",
    "U[1:-1,:] = Forward_Euler_time(U[1:-1,:],dt,dudx_2,dudv_2,V[1:-1,1:],E_2[1:-1,1:])\n",
    "\n",
    "dudx_1 = central_diff_space(U,X)\n",
    "dudv_1 = central_diff_vel(U,V)\n",
    "E_1 = compute_electric_field(U)\n",
    "U[1:-1,:] = AB2(U[1:-1,:],dt,dudx_1,dudv_1,dudx_2,dudv_2,V[1:-1,1:],E_1[1:-1,1:],E_2[1:-1,1:])\n",
    "\n",
    "for i in range(2,steps):\n",
    "    dudx = central_diff_space(U,X)\n",
    "    dudv = central_diff_vel(U,V)\n",
    "    E = compute_electric_field(U)\n",
    "    U[1:-1,:] = AB3(U[1:-1,:],dt,dudx,dudv,dudx_1,dudv_1,dudx_2,dudv_2,V[1:-1,1:],E[1:-1,1:],E_1[1:-1,1:],\\\n",
    "                   E_2[1:-1,1:])\n",
    "    \n",
    "    dudx_2 = dudx_1\n",
    "    dudv_2 = dudv_1\n",
    "    dudx_1 = dudx\n",
    "    dudv_1 = dudv\n",
    "    E_2 = E_1\n",
    "    E_1 = E\n",
    "    \n",
    "    if (i % 10000 == 0):\n",
    "        Uplot[1:-1,0] = U[1:-1,-1]\n",
    "        Uplot[1:-1,1:] = U[1:-1,:]\n",
    "        plt.plot(v,Uplot[:,25])\n",
    "        plt.show()"
   ]
  },
  {
   "cell_type": "code",
   "execution_count": 31,
   "metadata": {
    "collapsed": true
   },
   "outputs": [],
   "source": [
    "Uplot[1:-1,0] = U[1:-1,-1]\n",
    "Uplot[1:-1,1:] = U[1:-1,:]"
   ]
  },
  {
   "cell_type": "code",
   "execution_count": 32,
   "metadata": {
    "collapsed": false
   },
   "outputs": [
    {
     "data": {
      "image/png": "[encoded data removed]",
      "text/plain": [
       "<matplotlib.figure.Figure at 0x7f17b1c0bf28>"
      ]
     },
     "metadata": {},
     "output_type": "display_data"
    }
   ],
   "source": [
    "fig = plt.figure(1)\n",
    "ax = fig.gca(projection = '3d')\n",
    "surf = ax.plot_surface(X,V,Uplot,antialiased = True,linewidth = 0)"
   ]
  },
  {
   "cell_type": "code",
   "execution_count": 33,
   "metadata": {
    "collapsed": false
   },
   "outputs": [
    {
     "data": {
      "text/plain": [
       "<matplotlib.colorbar.Colorbar at 0x7f17b0c0da20>"
      ]
     },
     "execution_count": 33,
     "metadata": {},
     "output_type": "execute_result"
    },
    {
     "data": {
      "image/png": "[encoded data removed]",
      "text/plain": [
       "<matplotlib.figure.Figure at 0x7f17b1c10630>"
      ]
     },
     "metadata": {},
     "output_type": "display_data"
    }
   ],
   "source": [
    "plt.pcolor(X,V,Uplot)\n",
    "plt.colorbar()"
   ]
  },
  {
   "cell_type": "code",
   "execution_count": null,
   "metadata": {
    "collapsed": false
   },
   "outputs": [],
   "source": [
    "# old version, no electric field\n",
    "\n",
    "Uplot = initial_u(X,V)\n",
    "U = np.delete(Uplot,0,1) # inital condition, remove first column (periodic)\n",
    "steps = 50\n",
    "dt = 1/40\n",
    "\n",
    "\n",
    "dudx_2 = central_diff_space(U,X)\n",
    "dudv_2 = central_diff_vel(U,V)\n",
    "U[1:-1,:] = Forward_Euler_time(U[1:-1,:],dt,dudx_2,dudv_2,V[1:-1,1:],F(0,X[1:-1,1:],V))\n",
    "\n",
    "dudx_1 = central_diff_space(U,X)\n",
    "dudv_1 = central_diff_vel(U,V)\n",
    "U[1:-1,:] = AB2(U[1:-1,:],dt,dudx_1,dudv_1,dudx_2,dudv_2,V[1:-1,1:],F(dt,X[1:-1,1:],V),F(0,X[1:-1,1:],V))\n",
    "\n",
    "for i in range(2,steps):\n",
    "    dudx = central_diff_space(U,X)\n",
    "    dudv = central_diff_vel(U,V)\n",
    "    U[1:-1,:] = AB3(U[1:-1,:],dt,dudx,dudv,dudx_1,dudv_1,dudx_2,dudv_2,V[1:-1,1:],F(i*dt,X[1:-1,1:],V),\\\n",
    "                   F((i-1)*dt,X[1:-1,1:],V),F((i-2)*dt,X[1:-1,1:],V))\n",
    "    \n",
    "    dudx_2 = dudx_1\n",
    "    dudv_2 = dudv_1\n",
    "    dudx_1 = dudx\n",
    "    dudv_1 = dudv\n",
    "    \n",
    "    if (i % 2 == 0):\n",
    "        Uplot[1:-1,0] = U[1:-1,-1]\n",
    "        Uplot[1:-1,1:] = U[1:-1,:]\n",
    "        plt.plot(v,Uplot[:,25])\n",
    "        plt.show()"
   ]
  },
  {
   "cell_type": "code",
   "execution_count": null,
   "metadata": {
    "collapsed": true
   },
   "outputs": [],
   "source": []
  },
  {
   "cell_type": "code",
   "execution_count": null,
   "metadata": {
    "collapsed": false
   },
   "outputs": [],
   "source": [
    "2 % 5"
   ]
  },
  {
   "cell_type": "code",
   "execution_count": null,
   "metadata": {
    "collapsed": false
   },
   "outputs": [],
   "source": [
    "\n",
    "Uplot[1:-1,0] = U[1:-1,-1]\n",
    "Uplot[1:-1,1:] = U[1:-1,:]\n"
   ]
  },
  {
   "cell_type": "code",
   "execution_count": null,
   "metadata": {
    "collapsed": false
   },
   "outputs": [],
   "source": [
    "fig = plt.figure(1)\n",
    "ax = fig.gca(projection = '3d')\n",
    "surf = ax.plot_surface(X,V,Uplot,antialiased = True,linewidth = 0)\n",
    "#surf = ax.scatter(X,V,Uplot)"
   ]
  },
  {
   "cell_type": "code",
   "execution_count": null,
   "metadata": {
    "collapsed": false
   },
   "outputs": [],
   "source": [
    "plt.pcolor(X,V,Uplot)\n",
    "plt.colorbar()"
   ]
  },
  {
   "cell_type": "code",
   "execution_count": null,
   "metadata": {
    "collapsed": false
   },
   "outputs": [],
   "source": [
    "plt.plot(Uplot[90,:])"
   ]
  },
  {
   "cell_type": "code",
   "execution_count": null,
   "metadata": {
    "collapsed": false
   },
   "outputs": [],
   "source": [
    "plt.plot(v,Uplot[:,2])"
   ]
  },
  {
   "cell_type": "code",
   "execution_count": null,
   "metadata": {
    "collapsed": false
   },
   "outputs": [],
   "source": [
    "X.shape"
   ]
  },
  {
   "cell_type": "code",
   "execution_count": null,
   "metadata": {
    "collapsed": false
   },
   "outputs": [],
   "source": [
    "np.zeros(5,)"
   ]
  },
  {
   "cell_type": "code",
   "execution_count": 2,
   "metadata": {
    "collapsed": false
   },
   "outputs": [
    {
     "data": {
      "text/plain": [
       "array([ 1.1,  1.2,  1.3,  1.4,  1.5,  1.6,  1.7,  1.8,  1.9,  2. ,  2.1,\n",
       "        2.2,  2.3,  2.4,  2.5,  2.6,  2.7,  2.8,  2.9,  3. ,  3.1,  3.2,\n",
       "        3.3,  3.4,  3.5,  3.6,  3.7,  3.8,  3.9,  4. ,  4.1,  4.2,  4.3,\n",
       "        4.4,  4.5,  4.6,  4.7,  4.8,  4.9])"
      ]
     },
     "execution_count": 2,
     "metadata": {},
     "output_type": "execute_result"
    }
   ],
   "source": [
    "np.arange(1.1,5,0.1)"
   ]
  },
  {
   "cell_type": "code",
   "execution_count": null,
   "metadata": {
    "collapsed": true
   },
   "outputs": [],
   "source": []
  }
 ],
 "metadata": {
  "kernelspec": {
   "display_name": "Python 3",
   "language": "python",
   "name": "python3"
  },
  "language_info": {
   "codemirror_mode": {
    "name": "ipython",
    "version": 3
   },
   "file_extension": ".py",
   "mimetype": "text/x-python",
   "name": "python",
   "nbconvert_exporter": "python",
   "pygments_lexer": "ipython3",
   "version": "3.6.0"
  }
 },
 "nbformat": 4,
 "nbformat_minor": 2
}
