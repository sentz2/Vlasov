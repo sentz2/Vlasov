{
 "cells": [
  {
   "cell_type": "code",
   "execution_count": 11,
   "metadata": {
    "collapsed": true
   },
   "outputs": [],
   "source": [
    "import numpy as np\n",
    "import numpy.linalg as la\n",
    "import matplotlib.pyplot as plt\n",
    "\n",
    "% matplotlib inline"
   ]
  },
  {
   "cell_type": "code",
   "execution_count": 85,
   "metadata": {
    "collapsed": true
   },
   "outputs": [],
   "source": [
    "nodes,weights = np.polynomial.legendre.leggauss(3)\n",
    "\n",
    "# quadratic basis functions\n",
    "def gamma_0(u):\n",
    "    return (u**2 - u)/2\n",
    "\n",
    "def gamma_1(u):\n",
    "    return 1 - u**2\n",
    "\n",
    "def gamma_2(u):\n",
    "    return (u**2 + u)/2\n",
    "\n",
    "def dgamma_0_du(u):\n",
    "    return u - 0.5\n",
    "\n",
    "def dgamma_1_du(u):\n",
    "    return -2*u\n",
    "\n",
    "def dgamma_2_du(u):\n",
    "    return u + 0.5\n",
    "\n",
    "def gamma_inner():\n",
    "    A = np.zeros((3,3))\n",
    "    A[0,0] =  np.sum(weights*gamma_0(nodes)*gamma_0(nodes))\n",
    "    A[0,1] = np.sum(weights*gamma_0(nodes)*gamma_1(nodes))\n",
    "    A[0,2] = np.sum(weights*gamma_0(nodes)*gamma_2(nodes))\n",
    "    A[1,1] = np.sum(weights*gamma_1(nodes)*gamma_1(nodes))\n",
    "    A[1,2] = np.sum(weights*gamma_1(nodes)*gamma_2(nodes))\n",
    "    A[2,2] = np.sum(weights*gamma_2(nodes)*gamma_2(nodes))\n",
    "    \n",
    "    A = A + A.T - np.diag(np.diag(A))\n",
    "    return A\n",
    "\n",
    "def gamma_inner_dx():\n",
    "    A = np.zeros((3,3))\n",
    "    A[0,0] = np.sum(weights*gamma_0(nodes)*dgamma_0_du(nodes))\n",
    "    A[0,1] = np.sum(weights*gamma_1(nodes)*dgamma_0_du(nodes))\n",
    "    A[0,2] = np.sum(weights*gamma_2(nodes)*dgamma_0_du(nodes))\n",
    "    A[1,0] = np.sum(weights*gamma_0(nodes)*dgamma_1_du(nodes))\n",
    "    A[1,1] = np.sum(weights*gamma_1(nodes)*dgamma_1_du(nodes))\n",
    "    A[1,2] = np.sum(weights*gamma_2(nodes)*dgamma_1_du(nodes))\n",
    "    A[2,0] = np.sum(weights*gamma_0(nodes)*dgamma_2_du(nodes))\n",
    "    A[2,1] = np.sum(weights*gamma_1(nodes)*dgamma_2_du(nodes))\n",
    "    A[2,2] = np.sum(weights*gamma_2(nodes)*dgamma_2_du(nodes))\n",
    "    return A\n",
    "\n",
    "def f(x):\n",
    "    return 1\n",
    "\n",
    "def Qf_Uf_solve(f,tau):\n",
    "    ### first element\n",
    "    A = np.zeros((13,13))\n",
    "    A[0:3,0:3] += (0.25)*gamma_inner()\n",
    "    A[0:3,3:6] -= gamma_inner_dx()\n",
    "    A[3:6,0:3] -= gamma_inner_dx()\n",
    "    # boundary stuff\n",
    "    A[3,0] -= 1\n",
    "    A[3,3] += tau\n",
    "    A[5,2] -=1\n",
    "    A[5,5] += tau\n",
    "    \n",
    "    ### second element\n",
    "    A[6:9,6:9] += 0.25*gamma_inner()\n",
    "    A[6:9,9:12] -= gamma_inner_dx()\n",
    "    A[9:12,6:9] -= gamma_inner_dx()\n",
    "    # boundary stuff\n",
    "    A[9,6] -= 1\n",
    "    A[9,9] += tau\n",
    "    A[11,8] -= 1\n",
    "    A[11,11] += tau\n",
    "    \n",
    "    # no interface\n",
    "    A[12,12] = 1\n",
    "    \n",
    "    b = np.zeros(13,)\n",
    "    new_nodes = 0.25*(nodes + 1)\n",
    "    b[3] = 0.25*np.sum(weights*f(new_nodes)*gamma_0(nodes))\n",
    "    b[4] = 0.25*np.sum(weights*f(new_nodes)*gamma_1(nodes))\n",
    "    b[5] = 0.25*np.sum(weights*f(new_nodes)*gamma_2(nodes))\n",
    "    \n",
    "    new_nodes = 0.25*nodes + 0.75\n",
    "    b[9] = 0.25*np.sum(weights*f(new_nodes)*gamma_0(nodes))\n",
    "    b[10] = 0.25*np.sum(weights*f(new_nodes)*gamma_1(nodes))\n",
    "    b[11] = 0.25*np.sum(weights*f(new_nodes)*gamma_2(nodes))\n",
    "    \n",
    "    c = la.solve(A,b)\n",
    "    \n",
    "    return A,b,c"
   ]
  },
  {
   "cell_type": "code",
   "execution_count": 101,
   "metadata": {
    "collapsed": false
   },
   "outputs": [],
   "source": [
    "Z = Qf_Uf_solve(f,1.0)"
   ]
  },
  {
   "cell_type": "code",
   "execution_count": 102,
   "metadata": {
    "collapsed": false
   },
   "outputs": [],
   "source": [
    "coeff = np.zeros(6,)\n",
    "coeff[0:3] = Z[2][3:6]\n",
    "coeff[3:6] = Z[2][9:12]"
   ]
  },
  {
   "cell_type": "code",
   "execution_count": 103,
   "metadata": {
    "collapsed": false
   },
   "outputs": [
    {
     "data": {
      "text/plain": [
       "[<matplotlib.lines.Line2D at 0x7f50dfd22550>]"
      ]
     },
     "execution_count": 103,
     "metadata": {},
     "output_type": "execute_result"
    },
    {
     "data": {
      "image/png": "[encoded data removed]",
      "text/plain": [
       "<matplotlib.figure.Figure at 0x7f50dfd6e470>"
      ]
     },
     "metadata": {},
     "output_type": "display_data"
    }
   ],
   "source": [
    "plt.plot(coeff,'o')"
   ]
  },
  {
   "cell_type": "code",
   "execution_count": 104,
   "metadata": {
    "collapsed": false
   },
   "outputs": [
    {
     "data": {
      "text/plain": [
       "array([ 4.75   , -2.5    ,  5.25   ,  5.     , -2.59375,  5.5    ,\n",
       "        4.75   , -2.5    ,  5.25   ,  5.     , -2.59375,  5.5    ,  0.     ])"
      ]
     },
     "execution_count": 104,
     "metadata": {},
     "output_type": "execute_result"
    }
   ],
   "source": [
    "Z[2]"
   ]
  },
  {
   "cell_type": "code",
   "execution_count": null,
   "metadata": {
    "collapsed": true
   },
   "outputs": [],
   "source": []
  }
 ],
 "metadata": {
  "kernelspec": {
   "display_name": "Python 3",
   "language": "python",
   "name": "python3"
  },
  "language_info": {
   "codemirror_mode": {
    "name": "ipython",
    "version": 3
   },
   "file_extension": ".py",
   "mimetype": "text/x-python",
   "name": "python",
   "nbconvert_exporter": "python",
   "pygments_lexer": "ipython3",
   "version": "3.6.0"
  }
 },
 "nbformat": 4,
 "nbformat_minor": 2
}
