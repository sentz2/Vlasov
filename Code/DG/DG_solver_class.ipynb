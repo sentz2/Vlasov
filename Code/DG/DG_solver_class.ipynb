{
 "cells": [
  {
   "cell_type": "code",
   "execution_count": 1,
   "metadata": {
    "collapsed": true
   },
   "outputs": [],
   "source": [
    "import numpy as np\n",
    "import matplotlib.pyplot as plt\n",
    "import numpy.linalg as la\n",
    "import scipy as sci\n",
    "\n",
    "% matplotlib inline\n",
    "\n",
    "# thinking about creating a DG solver class - not sure if this is a good idea"
   ]
  },
  {
   "cell_type": "code",
   "execution_count": 5,
   "metadata": {
    "collapsed": true
   },
   "outputs": [],
   "source": [
    "class DG_solver_1D:\n",
    "    def __init__(self,L,f,x):\n",
    "        self.f = f\n",
    "        self.L = L\n",
    "        self.x = x\n",
    "        self.N = x.shape[0] - 1\n",
    "        self.h = x[1] - x[0]\n",
    "        self.alpha = 0.0\n",
    "        self.beta = 0.0\n",
    "        self.degree = 6\n",
    "        self.eps = -1.0\n",
    "        self.sig_0 = 1.0\n",
    "        self.sig_1 = 0.0\n",
    "        \n",
    "    def local_A(self):\n",
    "        A = np.array([[1.0,-1.0],[-1.0,1.0]])\n",
    "        A = A/self.h\n",
    "        return A\n",
    "    def local_B(self):\n",
    "        B11 = self.eps/2 - 0.5 + self.sig_0 + self.sig_1/(self.h**2)\n",
    "        B12 = -self.sig_1/(self.h**2) - self.eps/2\n",
    "        B21 = 0.5 - self.sig_1/(self.h**2)\n",
    "        B22 = self.sig_1/(self.h**2)\n",
    "        B = np.array([[B11,B12],[B21,B22]])\n",
    "        B = B/self.h\n",
    "        return B\n",
    "    \n",
    "    def local_C(self):\n",
    "        C11 = self.sig_1/(self.h**2)\n",
    "        C12 = 0.5 - self.sig_1/(self.h**2)\n",
    "        C21 = -self.eps/2 - self.sig_1/(self.h**2)\n",
    "        C22 = -0.5 + self.eps/2 + self.sig_0 + self.sig_1/(self.h**2)\n",
    "        C = np.array([[C11, C12],[C21,C22]])    \n",
    "        C = C/self.h\n",
    "        return C\n",
    "\n",
    "    def local_D(self):\n",
    "        D11 = self.eps/2 - self.sig_1/(self.h**2)\n",
    "        D12 = self.sig_1/(self.h**2)\n",
    "        D21 = 0.5 - self.eps/2 - self.sig_0 + self.sig_1/(self.h**2)\n",
    "        D22 = -0.5 - self.sig_1/(h**2)\n",
    "        D = np.array([[D11,D12],[D21,D22]])\n",
    "        D = D/self.h\n",
    "        return D\n",
    "\n",
    "    def local_E(self):\n",
    "        E11 = -0.5 - self.sig_1/(self.h**2)\n",
    "        E12 = 0.5 - self.eps/2 - self.sig_0 + self.sig_1/(self.h**2)\n",
    "        E21 = self.sig_1/(self.h**2)\n",
    "        E22 = self.eps/2 - self.sig_1/(self.h**2)\n",
    "        E = np.array([[E11,E12],[E21,E22]])\n",
    "        E = E/self.h\n",
    "        return E"
   ]
  },
  {
   "cell_type": "code",
   "execution_count": 7,
   "metadata": {
    "collapsed": false
   },
   "outputs": [],
   "source": [
    "def f(x):\n",
    "    return 1.0\n",
    "\n",
    "Z = DG_solver_1D(1.0,f,50)"
   ]
  },
  {
   "cell_type": "code",
   "execution_count": 8,
   "metadata": {
    "collapsed": false
   },
   "outputs": [
    {
     "data": {
      "text/plain": [
       "0.0"
      ]
     },
     "execution_count": 8,
     "metadata": {},
     "output_type": "execute_result"
    }
   ],
   "source": [
    "Z.beta"
   ]
  },
  {
   "cell_type": "code",
   "execution_count": null,
   "metadata": {
    "collapsed": true
   },
   "outputs": [],
   "source": []
  }
 ],
 "metadata": {
  "kernelspec": {
   "display_name": "Python 3",
   "language": "python",
   "name": "python3"
  },
  "language_info": {
   "codemirror_mode": {
    "name": "ipython",
    "version": 3
   },
   "file_extension": ".py",
   "mimetype": "text/x-python",
   "name": "python",
   "nbconvert_exporter": "python",
   "pygments_lexer": "ipython3",
   "version": "3.6.0"
  }
 },
 "nbformat": 4,
 "nbformat_minor": 2
}
