{
 "cells": [
  {
   "cell_type": "code",
   "execution_count": 1,
   "metadata": {
    "collapsed": true
   },
   "outputs": [],
   "source": [
    "import numpy as np\n",
    "import matplotlib.pyplot as plt\n",
    "import numpy.linalg as la\n",
    "import scipy as sci\n",
    "\n",
    "% matplotlib inline"
   ]
  },
  {
   "cell_type": "code",
   "execution_count": 2,
   "metadata": {
    "collapsed": true
   },
   "outputs": [],
   "source": [
    "L = 1\n",
    "alpha = 0\n",
    "beta = 1\n",
    "\n",
    "def f(x):\n",
    "    #return 0.0  # L = 1 alpha = 1, beta = 0\n",
    "    #return -2.0 # L = 1 alpha = -1 beta = 1\n",
    "    #return -2.0 # L = 3 alpha = 0, beta = 0\n",
    "    #return np.exp(x)*(1 - 2*x - x**2) # L = 1 alpha = 1, beta = 0\n",
    "    return 1.0\n",
    "\n",
    "def u(x):\n",
    "    #return 1 - x # L = 1, alpha = 1, beta = 0\n",
    "    #return x**2 + x - 1 # L = 1, alpha = -1, beta = 1\n",
    "    return x**2 - 3*x # L = 3, alpha = beta = 0\n",
    "    #return np.exp(x)*((1-x)**2) # L = 1 alpha = 1, beta = 0"
   ]
  },
  {
   "cell_type": "code",
   "execution_count": 3,
   "metadata": {
    "collapsed": false
   },
   "outputs": [],
   "source": [
    "# use a uniform mesh spacing \n",
    "N = 500\n",
    "x = np.linspace(0,L,N+1)\n",
    "h = x[1] - x[0]\n",
    "degree = 6\n",
    "\n",
    "g_nodes,g_weights = np.polynomial.legendre.leggauss(degree)"
   ]
  },
  {
   "cell_type": "markdown",
   "metadata": {},
   "source": [
    "Solves a 1D problem BVP:\n",
    "\\begin{align}\n",
    "-u''(x) = f(x)\\\\\n",
    "u(0) = \\alpha \\\\\n",
    "u(L) = \\beta\n",
    "\\end{align}\n",
    "\n",
    "with the choice $f(x) = e^x -2xe^x -x^2e^x$, $L = 1$, $\\alpha = 1$, $\\beta = 0$, the solution is given by\n",
    "\\begin{equation}\n",
    "u(x) = (1-x)^2e^x\n",
    "\\end{equation}\n",
    "The code currently solves with linear discontinuous elements and uniform spacing, and uniform jump parameters.  It also enforces boundary conditions weakly."
   ]
  },
  {
   "cell_type": "markdown",
   "metadata": {},
   "source": [
    "Integrate with a test function over the interval $[x_n, x_{n+1}]$, and apply integration by parts:\n",
    "\\begin{align}\n",
    "\\int_{x_n}^{x_{n+1}}u'(x)v'(x) dx - u'(x_{n+1})v(x_{n+1}^-) + u'(x_n)v(x_n^+) = \\int_{x_n}^{x_{n+1}}f(x)v(x)dx\n",
    "\\end{align}\n",
    "\n",
    "Define jumps and averages at interior nodes (1 through N-1) as:\n",
    "\\begin{align}\n",
    "[v(x_n)] = (v(x_n^-) - v(x_n^+))\\\\\n",
    "\\{v(x_n)\\} = \\frac{1}{2}(v(x_n^+) + v(x_n^-))\n",
    "\\end{align}\n",
    "At the endpoints the definitions are:\n",
    "\\begin{align}\n",
    "[v(x_0)] = - v(x_0)\\\\\n",
    "[v(x_N)] = v(x_N)\\\\\n",
    "\\{v(x_0)\\} = v(x_0)\\\\\n",
    "\\{v(x_N)\\} = v(x_N)\n",
    "\\end{align}\n",
    "\n",
    "Summing over the elements and using the fact that the solution $u \\in C^1(0,L)$ (so $u'$ has no jumps), and using the identity:\n",
    "\\begin{equation}\n",
    "[uv] = \\{u\\}[v] + [u]\\{v\\}\n",
    "\\end{equation}\n",
    "We get:\n",
    "\\begin{equation}\n",
    "\\sum_{n=0}^{N-1}\\int_{x_n}^{x_{n+1}}u'v'dx - \\sum_{n=0}^{N}\\{u'(x_n)\\}[v(x_n)] = \\sum_{n=0}^{N-1}\\int_{x_n}^{x_{n+1}}fv dx\n",
    "\\end{equation}"
   ]
  },
  {
   "cell_type": "markdown",
   "metadata": {},
   "source": [
    "Under the partition $0 = x_0,\\dots,x_N = 1$, with uniform spacing we want to solve bilinear form:\n",
    "\\begin{equation}\n",
    "a_{ \\epsilon}(u,v) = L_{\\epsilon}(v)\n",
    "\\end{equation}\n",
    "defined as follows:\n",
    "\\begin{equation}\n",
    "a_{\\epsilon} = \\sum_{n=0}^{N-1} \\int_{x_n}^{x_{n+1}} u'(x)v'(x) dx - \\sum_{n=0}^{N} \\{u'(x_n)\\} [v(x_n)]\n",
    "+\\epsilon \\sum_{n=0}^N\\{v'(x_n)\\} [u(x_n)] + J_0(u,v) + J_1(u,v)\n",
    "\\end{equation}\n",
    "where \n",
    "\\begin{align}\n",
    "J_0(u,v) = \\sum_{n=0}^N \\frac{\\sigma_0}{h}[v(x_n)][u(x_n)] \\\\\n",
    "J_1(u,v) = \\sum_{n=1}^{N-1}\\frac{\\sigma_1}{h}[v'(x_n)][u'(x_n)]\n",
    "\\end{align}\n",
    "and $\\epsilon$ takes values of 0, 1, and 2.\n",
    "\n",
    "\\begin{align}\n",
    "L_{\\epsilon}(v) = \\sum_{n=0}^{N-1}\\int_{x_n}^{x_{n+1}} f(x)v(x)dx - \\epsilon v'(x_0)\\alpha + \\epsilon v'(x_N)\\beta + \\frac{\\sigma_0}{h}v(x_0)\\alpha +\\frac{\\sigma_0}{h}v(x_N)\\beta\n",
    "\\end{align}\n",
    "We've simply added 3 terms to the weak form, and used the continuity and boundary conditions of the true solution\n",
    "Assembly of $A$ should be split into 3 parts: Integrals over subintervals, constraints at interior nodes, and constraints at exterior nodes.  Both boundary conditions will be enforced weakly!!!"
   ]
  },
  {
   "cell_type": "markdown",
   "metadata": {},
   "source": [
    "First, we assemble the local matrix $A_n$ which is the discrete form of the integral over every element:\n",
    "\\begin{equation}\n",
    "(A_n)_{ij} = \\int_{x_n}^{x_{n+1}} \\phi_j ' (x) \\phi_i '(x) dx\n",
    "\\end{equation}\n",
    "$A_n$ has the following form for elements 1 through $n$:\n",
    "\\begin{equation}\n",
    "A_n = \\frac{1}{h}\\begin{pmatrix}\n",
    "1 & -1 \\\\\n",
    "-1 & 1\n",
    "\\end{pmatrix}\n",
    "\\end{equation}\n",
    "Every element requires this, so these local matrices will be part of the diagonal of global matrix"
   ]
  },
  {
   "cell_type": "markdown",
   "metadata": {},
   "source": [
    "Next, we compute contributions to inner nodes.  Expanding $- \\sum_{n=0}^{N} \\{u'(x_n)\\} [v(x_n)]\n",
    "+\\epsilon \\sum_{n=0}^N\\{v'(x_n)\\} [u(x_n)] + J_0(u,v) + J_1(u,v)$ (restricting our selves to interior nodes), we get four types of constraints.  The first is:\n",
    "\n",
    "\\begin{align}\n",
    "u^+v^+: \\frac{1}{2}\\phi_j ' (x_n^+)\\phi_i(x_n^+) - \\frac{\\epsilon}{2}\\phi_j(x_n^+)\\phi_i ' (x_n^+) + \\frac{\\sigma_0}{h}\\phi_j(x_n^+)\\phi_i(x_n^+) + \\frac{\\sigma_1}{h}\\phi_j ' (x_n^+) \\phi_i ' (x_n^+)\n",
    "\\end{align}\n",
    "with local matrix\n",
    "\\begin{equation}\n",
    "B_n = \\frac{1}{h} \\begin{pmatrix}\n",
    "\\frac{\\epsilon}{2} - \\frac{1}{2} + \\sigma_0 + \\frac{\\sigma_1}{h^2} & -\\frac{\\epsilon}{2} - \\frac{\\sigma_1}{h^2}\\\\\n",
    "\\frac{1}{2} - \\frac{\\sigma_1}{h^2} & \\frac{\\sigma_1}{h^2}\n",
    "\\end{pmatrix}\n",
    "\\end{equation}\n",
    "These are additional constraints within element $n+1$ (to the right of the interior node).  Subsequently, they will be added to the diagonal, excluding the 1st element (empty upper left-hand block)"
   ]
  },
  {
   "cell_type": "markdown",
   "metadata": {},
   "source": [
    "2nd type:\n",
    "\\begin{align}\n",
    "u^-v^-: -\\frac{1}{2}\\phi_j ' (x_n^-)\\phi_i(x_n^-) + \\frac{\\epsilon}{2}\\phi_j(x_n^-)\\phi_i ' (x_n^-) + \\frac{\\sigma_0}{h}\\phi_j(x_n^-)\\phi_i(x_n^-) + \\frac{\\sigma_1}{h}\\phi_j ' (x_n^-) \\phi_i ' (x_n^-)\n",
    "\\end{align}\n",
    "with matrix:\n",
    "\\begin{equation}\n",
    "C_n = \\frac{1}{h} \\begin{pmatrix}\n",
    "\\frac{\\sigma_1}{h^2} & \\frac{1}{2} - \\frac{\\sigma_1}{h^2}\\\\\n",
    "-\\frac{\\epsilon}{2} - \\frac{\\sigma_1}{h^2} & -\\frac{1}{2} + \\frac{\\epsilon}{2} + \\sigma_0 + \\frac{\\sigma_1}{h^2}\n",
    "\\end{pmatrix}\n",
    "\\end{equation}\n",
    "These are additional constraints within element $n$ (to the left of the interior node).  They will be added to the diagonal, excluding the last element (empty lower right-hand block)"
   ]
  },
  {
   "cell_type": "markdown",
   "metadata": {},
   "source": [
    "Now we need inter-node coupling.  The first type:\n",
    "\\begin{align}\n",
    "u^+v^-: -\\frac{1}{2}\\phi_j ' (x_n^+)\\phi_i(x_n^-) - \\frac{\\epsilon}{2}\\phi_j(x_n^+)\\phi_i ' (x_n^-) - \\frac{\\sigma_0}{h}\\phi_j(x_n^+)\\phi_i(x_n^-) - \\frac{\\sigma_1}{h}\\phi_j ' (x_n^+) \\phi_i ' (x_n^-)\n",
    "\\end{align}\n",
    "with matrix:\n",
    "\\begin{equation}\n",
    "D_n = \\frac{1}{h} \\begin{pmatrix}\n",
    "\\frac{\\epsilon}{2} - \\frac{\\sigma_1}{h^2} & \\frac{\\sigma_1}{h^2}\\\\\n",
    "\\frac{1}{2} - \\frac{\\epsilon}{2} - \\sigma_0 + \\frac{\\sigma_1}{h^2} & -\\frac{1}{2} - \\frac{\\sigma_1}{h^2}\n",
    "\\end{pmatrix}\n",
    "\\end{equation}\n",
    "This couples test functions in element $n$ to trial functions in element $n+1$, and so is on the superdiagonal"
   ]
  },
  {
   "cell_type": "markdown",
   "metadata": {},
   "source": [
    "The second type of coupling is:\n",
    "\\begin{align}\n",
    "u^-v^+: \\frac{1}{2}\\phi_j ' (x_n^-)\\phi_i(x_n^+) + \\frac{\\epsilon}{2}\\phi_j(x_n^-)\\phi_i ' (x_n^+) - \\frac{\\sigma_0}{h}\\phi_j(x_n^-)\\phi_i(x_n^+) - \\frac{\\sigma_1}{h}\\phi_j ' (x_n^-) \\phi_i ' (x_n^+)\n",
    "\\end{align}\n",
    "With matrix:\n",
    "\\begin{equation}\n",
    "E_n = \\frac{1}{h}\\begin{pmatrix}\n",
    "-\\frac{1}{2} - \\frac{\\sigma_1}{h^2} & \\frac{1}{2} - \\frac{\\epsilon}{2} - \\sigma_0 + \\frac{\\sigma_1}{h^2}\\\\\n",
    "\\frac{\\sigma_1}{h^2} & \\frac{\\epsilon}{2} - \\frac{\\sigma_1}{h^2}\n",
    "\\end{pmatrix}\n",
    "\\end{equation}\n",
    "This couples test functions in element $n+1$ to trial functions in element $n$, and so is on the subdiagonal."
   ]
  },
  {
   "cell_type": "markdown",
   "metadata": {},
   "source": [
    "Finally, we need contributions from the two exterior nodes.  First, $x_0$:\n",
    "\\begin{equation}\n",
    "\\phi_j ' (x_0)\\phi_i (x_0) - \\epsilon \\phi_j (x_0)\\phi_i ' (x_0) + \\frac{\\sigma_0}{h}\\phi_j(x_0)\\phi_i(x_0)\n",
    "\\end{equation}\n",
    "The local matrix is:\n",
    "\\begin{equation}\n",
    "F_0 = \\frac{1}{h} \\begin{pmatrix}\n",
    "\\epsilon + \\sigma_0 - 1 & 1\\\\\n",
    "-\\epsilon & 0 \\end{pmatrix}\n",
    "\\end{equation}\n",
    "This only affects element 1 so will appear in upper left block"
   ]
  },
  {
   "cell_type": "markdown",
   "metadata": {},
   "source": [
    "Then $x_1$:\n",
    "\\begin{equation}\n",
    "-\\phi_j ' (x_N) \\phi_i (x_N) + \\epsilon \\phi_j(x_N) \\phi_i ' (x_N) + \\frac{\\sigma}{h}\\phi_j(x_N)\\phi_i(x_N)\n",
    "\\end{equation}\n",
    "The local matrix is:\n",
    "\\begin{equation}\n",
    "F_N = \\frac{1}{h} \\begin{pmatrix}\n",
    "0 & -\\epsilon\\\\\n",
    "1 & \\epsilon + \\sigma_0 - 1 \\end{pmatrix}\n",
    "\\end{equation}\n",
    "This will be added to lower right hand block"
   ]
  },
  {
   "cell_type": "markdown",
   "metadata": {},
   "source": [
    "The overall matrix will have the form:\n",
    "\\begin{equation}\n",
    "\\begin{pmatrix}\n",
    "A_0 + C_1 + F_0 & D1 & 0 & \\dots & \\dots & 0\\\\\n",
    "E_1 & A_1 + B_1 + C_2 & D2 & 0 & \\dots & 0 \\\\\n",
    "0 & E_2 & A_2 + B_2 + C_3 & D_3 & 0 & 0\\\\\n",
    "\\vdots & \\vdots & \\ddots & \\ddots & \\vdots & \\vdots\\\\\n",
    "\\vdots & \\vdots & \\ddots & \\ddots & D_{N-2} & \\vdots \\\\\n",
    "0 & 0 & 0 & E_{N-2} & A_{N-2} + B_{N-2} + C_{N-1} & D_{N-1} \\\\\n",
    "0 & 0 & 0 & 0 & E_{N-1} &A_{N-1} + B_{N-1} + F_N\n",
    "\\end{pmatrix}\n",
    "\\end{equation}"
   ]
  },
  {
   "cell_type": "markdown",
   "metadata": {},
   "source": [
    "The right hand side is a little more straightforward.  On each element $n$, the integral $\\int_{x_n}^{x_{n+1}} f(x)\\phi_i^n dx$ must be computed for $i = 1,2$ (using gauss quadrature).  In addition, the first component must have the additional terms $\\frac{\\alpha}{h}(\\sigma_0+\\epsilon)$, the second component must have $-\\frac{\\alpha \\epsilon}{h}$, the second to last component $-\\frac{\\beta\\epsilon}{h}$ and the final component $\\frac{\\beta}{h}(\\sigma_0 + \\epsilon)$"
   ]
  },
  {
   "cell_type": "code",
   "execution_count": 4,
   "metadata": {
    "collapsed": false
   },
   "outputs": [],
   "source": [
    "# We are going to impose boundary conditions weakly\n",
    "# We'll do piecewise linears first\n",
    "# h, sigma_0 and sigma_1 are constant initially\n",
    "\n",
    "def local_A(h):\n",
    "    A = np.array([[1.0,-1.0],[-1.0,1.0]])\n",
    "    A = A/h\n",
    "    return A \n",
    "\n",
    "def local_B(h,eps,sig_0,sig_1):\n",
    "    B11 = eps/2 - 0.5 + sig_0 + sig_1/(h**2)\n",
    "    \n",
    "    B12 = -sig_1/(h**2) - eps/2\n",
    "    \n",
    "    B21 = 0.5 - sig_1/(h**2)\n",
    "    \n",
    "    B22 = sig_1/(h**2)\n",
    "    B = np.array([[B11,B12],[B21,B22]])\n",
    "    B = B/h\n",
    "    return B\n",
    "\n",
    "def local_C(h,eps,sig_0,sig_1):\n",
    "    C11 = sig_1/(h**2)\n",
    "    C12 = 0.5 - sig_1/(h**2)\n",
    "    C21 = -eps/2 - sig_1/(h**2)\n",
    "    C22 = -0.5 + eps/2 + sig_0 + sig_1/(h**2)\n",
    "    C = np.array([[C11, C12],[C21,C22]])    \n",
    "    C = C/h\n",
    "    return C\n",
    "\n",
    "def local_D(h,eps,sig_0,sig_1):\n",
    "    D11 = eps/2 - sig_1/(h**2)\n",
    "    D12 = sig_1/(h**2)\n",
    "    D21 = 0.5 - eps/2 - sig_0 + sig_1/(h**2)\n",
    "    D22 = -0.5 - sig_1/(h**2)\n",
    "    D = np.array([[D11,D12],[D21,D22]])\n",
    "    D = D/h\n",
    "    return D\n",
    "\n",
    "def local_E(h,eps,sig_0,sig_1):\n",
    "    E11 = -0.5 - sig_1/(h**2)\n",
    "    E12 = 0.5 - eps/2 - sig_0 + sig_1/(h**2)\n",
    "    E21 = sig_1/(h**2)\n",
    "    E22 = eps/2 - sig_1/(h**2)\n",
    "    E = np.array([[E11,E12],[E21,E22]])\n",
    "    E = E/h\n",
    "    return E\n",
    "\n",
    "def local_F_0(h,eps,sig_0):\n",
    "    F11 = eps + sig_0 - 1\n",
    "    F12 = 1\n",
    "    F21 = -eps\n",
    "    F22 = 0\n",
    "    F = np.array([[F11,F12],[F21,F22]])\n",
    "    F = F/h\n",
    "    return F\n",
    "\n",
    "def local_F_N(h,eps,sig_0):\n",
    "    F11 = 0\n",
    "    F12 = -eps\n",
    "    F21 = 1\n",
    "    F22 = eps + sig_0 - 1\n",
    "    F = np.array([[F11,F12],[F21,F22]])\n",
    "    F = F/h\n",
    "    return F\n",
    "    \n",
    "def assemble_matrix(h,eps,sig_0,sig_1,N):\n",
    "    A_global = np.zeros((2*N,2*N))\n",
    "    A_global[0:2,0:2] += local_A(h) + local_C(h,eps,sig_0,sig_1) + local_F_0(h,eps,sig_0)\n",
    "    A_global[0:2,2:4] += local_D(h,eps,sig_0,sig_1)\n",
    "    for e in range(1,N-1):\n",
    "        i = e*2\n",
    "        A_global[i:(i+2),i:(i+2)] += local_A(h) + local_B(h,eps,sig_0,sig_1) + local_C(h,eps,sig_0,sig_1)\n",
    "        A_global[i:(i+2),(i-2):i] += local_E(h,eps,sig_0,sig_1)\n",
    "        A_global[i:(i+2),(i+2):(i+4)] += local_D(h,eps,sig_0,sig_1)\n",
    "    \n",
    "    i = 2*N-2\n",
    "    A_global[i:(i+2),i:(i+2)] += local_A(h) + local_B(h,eps,sig_0,sig_1) + local_F_N(h,eps,sig_0)\n",
    "    A_global[i:(i+2),(i-2):i] += local_E(h,eps,sig_0,sig_1)\n",
    "    \n",
    "    return A_global\n",
    "    "
   ]
  },
  {
   "cell_type": "code",
   "execution_count": 5,
   "metadata": {
    "collapsed": true
   },
   "outputs": [],
   "source": [
    "def local_basis_0(x,x0,x1):\n",
    "    z = (x1 - x)/(x1 - x0)\n",
    "    return z\n",
    "\n",
    "def local_basis_1(x,x0,x1):\n",
    "    z = (x - x0)/(x1 - x0)\n",
    "    return z\n",
    "\n",
    "def int_f(f,basis,x0,x1,z,g_weights):\n",
    "    u = f(z)*basis(z,x0,x1)\n",
    "    integral = g_weights.dot(u)\n",
    "    integral *= (x1 - x0)/2\n",
    "    return integral\n",
    "    \n",
    "\n",
    "def integral_vector(f,x0,x1,g_nodes,g_weights):\n",
    "    dx = x1 - x0\n",
    "    z = (dx*g_nodes)/2 + (x1 + x0)/2\n",
    "    local_vec = np.zeros(2,)\n",
    "    local_vec[0] = int_f(f,local_basis_0,x0,x1,z,g_weights)\n",
    "    local_vec[1] = int_f(f,local_basis_1,x0,x1,z,g_weights)\n",
    "    return local_vec\n",
    "\n",
    "def assemble_vector(h,eps,sig_0,N,g_nodes,g_weights,x,alpha,beta):\n",
    "    b = np.zeros(2*N,)\n",
    "    b[0:2] = integral_vector(f,x[0],x[1],g_nodes,g_weights)\n",
    "    b[0] += alpha*(sig_0 + eps)/h\n",
    "    b[1] -= alpha*eps/h\n",
    "    \n",
    "    for e in range(1,N):\n",
    "        i = e*2\n",
    "        b[i:(i+2)] = integral_vector(f,x[e],x[e+1],g_nodes,g_weights)\n",
    "        \n",
    "    b[-2] -= beta*eps/h\n",
    "    b[-1] += beta*(sig_0 + eps)/h\n",
    "    return b"
   ]
  },
  {
   "cell_type": "code",
   "execution_count": 6,
   "metadata": {
    "collapsed": false
   },
   "outputs": [],
   "source": [
    "eps = -1\n",
    "sig_0 = 2.0\n",
    "sig_1 = 0.0\n",
    "A = assemble_matrix(h,eps,sig_0,sig_1,N)\n",
    "b = assemble_vector(h,eps,sig_0,N,g_nodes,g_weights,x,alpha,beta)"
   ]
  },
  {
   "cell_type": "code",
   "execution_count": 7,
   "metadata": {
    "collapsed": false
   },
   "outputs": [],
   "source": [
    "c = la.solve(A,b)"
   ]
  },
  {
   "cell_type": "code",
   "execution_count": 8,
   "metadata": {
    "collapsed": false
   },
   "outputs": [],
   "source": [
    "xplot = np.zeros(2*N,)\n",
    "xplot[0] = x[0]\n",
    "for i in range(1,N):\n",
    "    xplot[2*i - 1] = x[i]\n",
    "    xplot[2*i] = x[i]\n",
    "    \n",
    "xplot[-1] = x[-1]"
   ]
  },
  {
   "cell_type": "code",
   "execution_count": 9,
   "metadata": {
    "collapsed": false
   },
   "outputs": [
    {
     "data": {
      "text/plain": [
       "[<matplotlib.lines.Line2D at 0x7fbf37c2cc88>]"
      ]
     },
     "execution_count": 9,
     "metadata": {},
     "output_type": "execute_result"
    },
    {
     "data": {
      "image/png": "[encoded data removed]",
      "text/plain": [
       "<matplotlib.figure.Figure at 0x7fbf3b74c780>"
      ]
     },
     "metadata": {},
     "output_type": "display_data"
    }
   ],
   "source": [
    "#plt.plot(x,u(x),'r')\n",
    "plt.plot(xplot,c,'b')"
   ]
  },
  {
   "cell_type": "code",
   "execution_count": 10,
   "metadata": {
    "collapsed": true
   },
   "outputs": [],
   "source": [
    "z = np.gradient(xplot,x[1]-x[0])"
   ]
  },
  {
   "cell_type": "code",
   "execution_count": 12,
   "metadata": {
    "collapsed": false
   },
   "outputs": [
    {
     "data": {
      "text/plain": [
       "[<matplotlib.lines.Line2D at 0x7fbf37a95828>]"
      ]
     },
     "execution_count": 12,
     "metadata": {},
     "output_type": "execute_result"
    },
    {
     "data": {
      "image/png": "[encoded data removed]",
      "text/plain": [
       "<matplotlib.figure.Figure at 0x7fbf37b0b908>"
      ]
     },
     "metadata": {},
     "output_type": "display_data"
    }
   ],
   "source": [
    "plt.plot(z[1:-1])"
   ]
  },
  {
   "cell_type": "code",
   "execution_count": null,
   "metadata": {
    "collapsed": true
   },
   "outputs": [],
   "source": []
  }
 ],
 "metadata": {
  "kernelspec": {
   "display_name": "Python 3",
   "language": "python",
   "name": "python3"
  },
  "language_info": {
   "codemirror_mode": {
    "name": "ipython",
    "version": 3
   },
   "file_extension": ".py",
   "mimetype": "text/x-python",
   "name": "python",
   "nbconvert_exporter": "python",
   "pygments_lexer": "ipython3",
   "version": "3.6.0"
  }
 },
 "nbformat": 4,
 "nbformat_minor": 2
}
